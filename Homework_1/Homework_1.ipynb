{
  "nbformat": 4,
  "nbformat_minor": 0,
  "metadata": {
    "colab": {
      "name": "Homework_1.ipynb",
      "provenance": [],
      "collapsed_sections": []
    },
    "kernelspec": {
      "name": "python3",
      "display_name": "Python 3"
    },
    "accelerator": "GPU",
    "widgets": {
      "application/vnd.jupyter.widget-state+json": {
        "4e9abdb7b0934217834cb3ad7ade3201": {
          "model_module": "@jupyter-widgets/controls",
          "model_name": "HBoxModel",
          "state": {
            "_view_name": "HBoxView",
            "_dom_classes": [],
            "_model_name": "HBoxModel",
            "_view_module": "@jupyter-widgets/controls",
            "_model_module_version": "1.5.0",
            "_view_count": null,
            "_view_module_version": "1.5.0",
            "box_style": "",
            "layout": "IPY_MODEL_732e0844abb14fc7888b1e2e4746af0c",
            "_model_module": "@jupyter-widgets/controls",
            "children": [
              "IPY_MODEL_0276592a834a4bdd8a74f3898cef3ef2",
              "IPY_MODEL_2a18ba34f7a741578b60ca23772929f1"
            ]
          }
        },
        "732e0844abb14fc7888b1e2e4746af0c": {
          "model_module": "@jupyter-widgets/base",
          "model_name": "LayoutModel",
          "state": {
            "_view_name": "LayoutView",
            "grid_template_rows": null,
            "right": null,
            "justify_content": null,
            "_view_module": "@jupyter-widgets/base",
            "overflow": null,
            "_model_module_version": "1.2.0",
            "_view_count": null,
            "flex_flow": null,
            "width": null,
            "min_width": null,
            "border": null,
            "align_items": null,
            "bottom": null,
            "_model_module": "@jupyter-widgets/base",
            "top": null,
            "grid_column": null,
            "overflow_y": null,
            "overflow_x": null,
            "grid_auto_flow": null,
            "grid_area": null,
            "grid_template_columns": null,
            "flex": null,
            "_model_name": "LayoutModel",
            "justify_items": null,
            "grid_row": null,
            "max_height": null,
            "align_content": null,
            "visibility": null,
            "align_self": null,
            "height": null,
            "min_height": null,
            "padding": null,
            "grid_auto_rows": null,
            "grid_gap": null,
            "max_width": null,
            "order": null,
            "_view_module_version": "1.2.0",
            "grid_template_areas": null,
            "object_position": null,
            "object_fit": null,
            "grid_auto_columns": null,
            "margin": null,
            "display": null,
            "left": null
          }
        },
        "0276592a834a4bdd8a74f3898cef3ef2": {
          "model_module": "@jupyter-widgets/controls",
          "model_name": "FloatProgressModel",
          "state": {
            "_view_name": "ProgressView",
            "style": "IPY_MODEL_b9a552df89d94e668f89c2583a719353",
            "_dom_classes": [],
            "description": "",
            "_model_name": "FloatProgressModel",
            "bar_style": "success",
            "max": 1,
            "_view_module": "@jupyter-widgets/controls",
            "_model_module_version": "1.5.0",
            "value": 1,
            "_view_count": null,
            "_view_module_version": "1.5.0",
            "orientation": "horizontal",
            "min": 0,
            "description_tooltip": null,
            "_model_module": "@jupyter-widgets/controls",
            "layout": "IPY_MODEL_2aa43d1b7ca947ec89f6fda96c0c662a"
          }
        },
        "2a18ba34f7a741578b60ca23772929f1": {
          "model_module": "@jupyter-widgets/controls",
          "model_name": "HTMLModel",
          "state": {
            "_view_name": "HTMLView",
            "style": "IPY_MODEL_5a477b7eee7f45b98535378e8880bd1c",
            "_dom_classes": [],
            "description": "",
            "_model_name": "HTMLModel",
            "placeholder": "​",
            "_view_module": "@jupyter-widgets/controls",
            "_model_module_version": "1.5.0",
            "value": " 9920512/? [00:00&lt;00:00, 16589357.91it/s]",
            "_view_count": null,
            "_view_module_version": "1.5.0",
            "description_tooltip": null,
            "_model_module": "@jupyter-widgets/controls",
            "layout": "IPY_MODEL_bf034b06b05746159fd038e96710b0e7"
          }
        },
        "b9a552df89d94e668f89c2583a719353": {
          "model_module": "@jupyter-widgets/controls",
          "model_name": "ProgressStyleModel",
          "state": {
            "_view_name": "StyleView",
            "_model_name": "ProgressStyleModel",
            "description_width": "initial",
            "_view_module": "@jupyter-widgets/base",
            "_model_module_version": "1.5.0",
            "_view_count": null,
            "_view_module_version": "1.2.0",
            "bar_color": null,
            "_model_module": "@jupyter-widgets/controls"
          }
        },
        "2aa43d1b7ca947ec89f6fda96c0c662a": {
          "model_module": "@jupyter-widgets/base",
          "model_name": "LayoutModel",
          "state": {
            "_view_name": "LayoutView",
            "grid_template_rows": null,
            "right": null,
            "justify_content": null,
            "_view_module": "@jupyter-widgets/base",
            "overflow": null,
            "_model_module_version": "1.2.0",
            "_view_count": null,
            "flex_flow": null,
            "width": null,
            "min_width": null,
            "border": null,
            "align_items": null,
            "bottom": null,
            "_model_module": "@jupyter-widgets/base",
            "top": null,
            "grid_column": null,
            "overflow_y": null,
            "overflow_x": null,
            "grid_auto_flow": null,
            "grid_area": null,
            "grid_template_columns": null,
            "flex": null,
            "_model_name": "LayoutModel",
            "justify_items": null,
            "grid_row": null,
            "max_height": null,
            "align_content": null,
            "visibility": null,
            "align_self": null,
            "height": null,
            "min_height": null,
            "padding": null,
            "grid_auto_rows": null,
            "grid_gap": null,
            "max_width": null,
            "order": null,
            "_view_module_version": "1.2.0",
            "grid_template_areas": null,
            "object_position": null,
            "object_fit": null,
            "grid_auto_columns": null,
            "margin": null,
            "display": null,
            "left": null
          }
        },
        "5a477b7eee7f45b98535378e8880bd1c": {
          "model_module": "@jupyter-widgets/controls",
          "model_name": "DescriptionStyleModel",
          "state": {
            "_view_name": "StyleView",
            "_model_name": "DescriptionStyleModel",
            "description_width": "",
            "_view_module": "@jupyter-widgets/base",
            "_model_module_version": "1.5.0",
            "_view_count": null,
            "_view_module_version": "1.2.0",
            "_model_module": "@jupyter-widgets/controls"
          }
        },
        "bf034b06b05746159fd038e96710b0e7": {
          "model_module": "@jupyter-widgets/base",
          "model_name": "LayoutModel",
          "state": {
            "_view_name": "LayoutView",
            "grid_template_rows": null,
            "right": null,
            "justify_content": null,
            "_view_module": "@jupyter-widgets/base",
            "overflow": null,
            "_model_module_version": "1.2.0",
            "_view_count": null,
            "flex_flow": null,
            "width": null,
            "min_width": null,
            "border": null,
            "align_items": null,
            "bottom": null,
            "_model_module": "@jupyter-widgets/base",
            "top": null,
            "grid_column": null,
            "overflow_y": null,
            "overflow_x": null,
            "grid_auto_flow": null,
            "grid_area": null,
            "grid_template_columns": null,
            "flex": null,
            "_model_name": "LayoutModel",
            "justify_items": null,
            "grid_row": null,
            "max_height": null,
            "align_content": null,
            "visibility": null,
            "align_self": null,
            "height": null,
            "min_height": null,
            "padding": null,
            "grid_auto_rows": null,
            "grid_gap": null,
            "max_width": null,
            "order": null,
            "_view_module_version": "1.2.0",
            "grid_template_areas": null,
            "object_position": null,
            "object_fit": null,
            "grid_auto_columns": null,
            "margin": null,
            "display": null,
            "left": null
          }
        },
        "bd666a0ff4524904abf084d6d5d6d97c": {
          "model_module": "@jupyter-widgets/controls",
          "model_name": "HBoxModel",
          "state": {
            "_view_name": "HBoxView",
            "_dom_classes": [],
            "_model_name": "HBoxModel",
            "_view_module": "@jupyter-widgets/controls",
            "_model_module_version": "1.5.0",
            "_view_count": null,
            "_view_module_version": "1.5.0",
            "box_style": "",
            "layout": "IPY_MODEL_b129a2ec672d4f41929507b1819ce9d4",
            "_model_module": "@jupyter-widgets/controls",
            "children": [
              "IPY_MODEL_fdfd092d169a4379b7f26787de3b6ba6",
              "IPY_MODEL_9960f11d98ab4d5997c44a7ac9e5de3c"
            ]
          }
        },
        "b129a2ec672d4f41929507b1819ce9d4": {
          "model_module": "@jupyter-widgets/base",
          "model_name": "LayoutModel",
          "state": {
            "_view_name": "LayoutView",
            "grid_template_rows": null,
            "right": null,
            "justify_content": null,
            "_view_module": "@jupyter-widgets/base",
            "overflow": null,
            "_model_module_version": "1.2.0",
            "_view_count": null,
            "flex_flow": null,
            "width": null,
            "min_width": null,
            "border": null,
            "align_items": null,
            "bottom": null,
            "_model_module": "@jupyter-widgets/base",
            "top": null,
            "grid_column": null,
            "overflow_y": null,
            "overflow_x": null,
            "grid_auto_flow": null,
            "grid_area": null,
            "grid_template_columns": null,
            "flex": null,
            "_model_name": "LayoutModel",
            "justify_items": null,
            "grid_row": null,
            "max_height": null,
            "align_content": null,
            "visibility": null,
            "align_self": null,
            "height": null,
            "min_height": null,
            "padding": null,
            "grid_auto_rows": null,
            "grid_gap": null,
            "max_width": null,
            "order": null,
            "_view_module_version": "1.2.0",
            "grid_template_areas": null,
            "object_position": null,
            "object_fit": null,
            "grid_auto_columns": null,
            "margin": null,
            "display": null,
            "left": null
          }
        },
        "fdfd092d169a4379b7f26787de3b6ba6": {
          "model_module": "@jupyter-widgets/controls",
          "model_name": "FloatProgressModel",
          "state": {
            "_view_name": "ProgressView",
            "style": "IPY_MODEL_ad01dfd1c0f24e989d4a14f136dec698",
            "_dom_classes": [],
            "description": "",
            "_model_name": "FloatProgressModel",
            "bar_style": "info",
            "max": 1,
            "_view_module": "@jupyter-widgets/controls",
            "_model_module_version": "1.5.0",
            "value": 0,
            "_view_count": null,
            "_view_module_version": "1.5.0",
            "orientation": "horizontal",
            "min": 0,
            "description_tooltip": null,
            "_model_module": "@jupyter-widgets/controls",
            "layout": "IPY_MODEL_f085c4c1245a4968a8af41b904e479e5"
          }
        },
        "9960f11d98ab4d5997c44a7ac9e5de3c": {
          "model_module": "@jupyter-widgets/controls",
          "model_name": "HTMLModel",
          "state": {
            "_view_name": "HTMLView",
            "style": "IPY_MODEL_fe0c905b27664c0ba71cb4d70cde797f",
            "_dom_classes": [],
            "description": "",
            "_model_name": "HTMLModel",
            "placeholder": "​",
            "_view_module": "@jupyter-widgets/controls",
            "_model_module_version": "1.5.0",
            "value": " 0/? [00:00&lt;?, ?it/s]",
            "_view_count": null,
            "_view_module_version": "1.5.0",
            "description_tooltip": null,
            "_model_module": "@jupyter-widgets/controls",
            "layout": "IPY_MODEL_dd754efadf794ed48d199447bbb29431"
          }
        },
        "ad01dfd1c0f24e989d4a14f136dec698": {
          "model_module": "@jupyter-widgets/controls",
          "model_name": "ProgressStyleModel",
          "state": {
            "_view_name": "StyleView",
            "_model_name": "ProgressStyleModel",
            "description_width": "initial",
            "_view_module": "@jupyter-widgets/base",
            "_model_module_version": "1.5.0",
            "_view_count": null,
            "_view_module_version": "1.2.0",
            "bar_color": null,
            "_model_module": "@jupyter-widgets/controls"
          }
        },
        "f085c4c1245a4968a8af41b904e479e5": {
          "model_module": "@jupyter-widgets/base",
          "model_name": "LayoutModel",
          "state": {
            "_view_name": "LayoutView",
            "grid_template_rows": null,
            "right": null,
            "justify_content": null,
            "_view_module": "@jupyter-widgets/base",
            "overflow": null,
            "_model_module_version": "1.2.0",
            "_view_count": null,
            "flex_flow": null,
            "width": null,
            "min_width": null,
            "border": null,
            "align_items": null,
            "bottom": null,
            "_model_module": "@jupyter-widgets/base",
            "top": null,
            "grid_column": null,
            "overflow_y": null,
            "overflow_x": null,
            "grid_auto_flow": null,
            "grid_area": null,
            "grid_template_columns": null,
            "flex": null,
            "_model_name": "LayoutModel",
            "justify_items": null,
            "grid_row": null,
            "max_height": null,
            "align_content": null,
            "visibility": null,
            "align_self": null,
            "height": null,
            "min_height": null,
            "padding": null,
            "grid_auto_rows": null,
            "grid_gap": null,
            "max_width": null,
            "order": null,
            "_view_module_version": "1.2.0",
            "grid_template_areas": null,
            "object_position": null,
            "object_fit": null,
            "grid_auto_columns": null,
            "margin": null,
            "display": null,
            "left": null
          }
        },
        "fe0c905b27664c0ba71cb4d70cde797f": {
          "model_module": "@jupyter-widgets/controls",
          "model_name": "DescriptionStyleModel",
          "state": {
            "_view_name": "StyleView",
            "_model_name": "DescriptionStyleModel",
            "description_width": "",
            "_view_module": "@jupyter-widgets/base",
            "_model_module_version": "1.5.0",
            "_view_count": null,
            "_view_module_version": "1.2.0",
            "_model_module": "@jupyter-widgets/controls"
          }
        },
        "dd754efadf794ed48d199447bbb29431": {
          "model_module": "@jupyter-widgets/base",
          "model_name": "LayoutModel",
          "state": {
            "_view_name": "LayoutView",
            "grid_template_rows": null,
            "right": null,
            "justify_content": null,
            "_view_module": "@jupyter-widgets/base",
            "overflow": null,
            "_model_module_version": "1.2.0",
            "_view_count": null,
            "flex_flow": null,
            "width": null,
            "min_width": null,
            "border": null,
            "align_items": null,
            "bottom": null,
            "_model_module": "@jupyter-widgets/base",
            "top": null,
            "grid_column": null,
            "overflow_y": null,
            "overflow_x": null,
            "grid_auto_flow": null,
            "grid_area": null,
            "grid_template_columns": null,
            "flex": null,
            "_model_name": "LayoutModel",
            "justify_items": null,
            "grid_row": null,
            "max_height": null,
            "align_content": null,
            "visibility": null,
            "align_self": null,
            "height": null,
            "min_height": null,
            "padding": null,
            "grid_auto_rows": null,
            "grid_gap": null,
            "max_width": null,
            "order": null,
            "_view_module_version": "1.2.0",
            "grid_template_areas": null,
            "object_position": null,
            "object_fit": null,
            "grid_auto_columns": null,
            "margin": null,
            "display": null,
            "left": null
          }
        },
        "b5070f6a15684131848f1b56b765bfcd": {
          "model_module": "@jupyter-widgets/controls",
          "model_name": "HBoxModel",
          "state": {
            "_view_name": "HBoxView",
            "_dom_classes": [],
            "_model_name": "HBoxModel",
            "_view_module": "@jupyter-widgets/controls",
            "_model_module_version": "1.5.0",
            "_view_count": null,
            "_view_module_version": "1.5.0",
            "box_style": "",
            "layout": "IPY_MODEL_d83210a503ca402c8dd4a6f634323f63",
            "_model_module": "@jupyter-widgets/controls",
            "children": [
              "IPY_MODEL_89cc102f26c14c90a76d9fe067b38317",
              "IPY_MODEL_42f9fb0d30c74f33a0554b96d4d1b778"
            ]
          }
        },
        "d83210a503ca402c8dd4a6f634323f63": {
          "model_module": "@jupyter-widgets/base",
          "model_name": "LayoutModel",
          "state": {
            "_view_name": "LayoutView",
            "grid_template_rows": null,
            "right": null,
            "justify_content": null,
            "_view_module": "@jupyter-widgets/base",
            "overflow": null,
            "_model_module_version": "1.2.0",
            "_view_count": null,
            "flex_flow": null,
            "width": null,
            "min_width": null,
            "border": null,
            "align_items": null,
            "bottom": null,
            "_model_module": "@jupyter-widgets/base",
            "top": null,
            "grid_column": null,
            "overflow_y": null,
            "overflow_x": null,
            "grid_auto_flow": null,
            "grid_area": null,
            "grid_template_columns": null,
            "flex": null,
            "_model_name": "LayoutModel",
            "justify_items": null,
            "grid_row": null,
            "max_height": null,
            "align_content": null,
            "visibility": null,
            "align_self": null,
            "height": null,
            "min_height": null,
            "padding": null,
            "grid_auto_rows": null,
            "grid_gap": null,
            "max_width": null,
            "order": null,
            "_view_module_version": "1.2.0",
            "grid_template_areas": null,
            "object_position": null,
            "object_fit": null,
            "grid_auto_columns": null,
            "margin": null,
            "display": null,
            "left": null
          }
        },
        "89cc102f26c14c90a76d9fe067b38317": {
          "model_module": "@jupyter-widgets/controls",
          "model_name": "FloatProgressModel",
          "state": {
            "_view_name": "ProgressView",
            "style": "IPY_MODEL_b3c7c22040ec443f8f1220144fe00ed7",
            "_dom_classes": [],
            "description": "",
            "_model_name": "FloatProgressModel",
            "bar_style": "success",
            "max": 1,
            "_view_module": "@jupyter-widgets/controls",
            "_model_module_version": "1.5.0",
            "value": 1,
            "_view_count": null,
            "_view_module_version": "1.5.0",
            "orientation": "horizontal",
            "min": 0,
            "description_tooltip": null,
            "_model_module": "@jupyter-widgets/controls",
            "layout": "IPY_MODEL_5d9b0b012cc24e30a0deb54bc3385401"
          }
        },
        "42f9fb0d30c74f33a0554b96d4d1b778": {
          "model_module": "@jupyter-widgets/controls",
          "model_name": "HTMLModel",
          "state": {
            "_view_name": "HTMLView",
            "style": "IPY_MODEL_edc2386ab8ab469d896be9545954f141",
            "_dom_classes": [],
            "description": "",
            "_model_name": "HTMLModel",
            "placeholder": "​",
            "_view_module": "@jupyter-widgets/controls",
            "_model_module_version": "1.5.0",
            "value": " 1654784/? [00:07&lt;00:00, 216159.17it/s]",
            "_view_count": null,
            "_view_module_version": "1.5.0",
            "description_tooltip": null,
            "_model_module": "@jupyter-widgets/controls",
            "layout": "IPY_MODEL_92141c9794ea4a058d8d24c7896ba5ea"
          }
        },
        "b3c7c22040ec443f8f1220144fe00ed7": {
          "model_module": "@jupyter-widgets/controls",
          "model_name": "ProgressStyleModel",
          "state": {
            "_view_name": "StyleView",
            "_model_name": "ProgressStyleModel",
            "description_width": "initial",
            "_view_module": "@jupyter-widgets/base",
            "_model_module_version": "1.5.0",
            "_view_count": null,
            "_view_module_version": "1.2.0",
            "bar_color": null,
            "_model_module": "@jupyter-widgets/controls"
          }
        },
        "5d9b0b012cc24e30a0deb54bc3385401": {
          "model_module": "@jupyter-widgets/base",
          "model_name": "LayoutModel",
          "state": {
            "_view_name": "LayoutView",
            "grid_template_rows": null,
            "right": null,
            "justify_content": null,
            "_view_module": "@jupyter-widgets/base",
            "overflow": null,
            "_model_module_version": "1.2.0",
            "_view_count": null,
            "flex_flow": null,
            "width": null,
            "min_width": null,
            "border": null,
            "align_items": null,
            "bottom": null,
            "_model_module": "@jupyter-widgets/base",
            "top": null,
            "grid_column": null,
            "overflow_y": null,
            "overflow_x": null,
            "grid_auto_flow": null,
            "grid_area": null,
            "grid_template_columns": null,
            "flex": null,
            "_model_name": "LayoutModel",
            "justify_items": null,
            "grid_row": null,
            "max_height": null,
            "align_content": null,
            "visibility": null,
            "align_self": null,
            "height": null,
            "min_height": null,
            "padding": null,
            "grid_auto_rows": null,
            "grid_gap": null,
            "max_width": null,
            "order": null,
            "_view_module_version": "1.2.0",
            "grid_template_areas": null,
            "object_position": null,
            "object_fit": null,
            "grid_auto_columns": null,
            "margin": null,
            "display": null,
            "left": null
          }
        },
        "edc2386ab8ab469d896be9545954f141": {
          "model_module": "@jupyter-widgets/controls",
          "model_name": "DescriptionStyleModel",
          "state": {
            "_view_name": "StyleView",
            "_model_name": "DescriptionStyleModel",
            "description_width": "",
            "_view_module": "@jupyter-widgets/base",
            "_model_module_version": "1.5.0",
            "_view_count": null,
            "_view_module_version": "1.2.0",
            "_model_module": "@jupyter-widgets/controls"
          }
        },
        "92141c9794ea4a058d8d24c7896ba5ea": {
          "model_module": "@jupyter-widgets/base",
          "model_name": "LayoutModel",
          "state": {
            "_view_name": "LayoutView",
            "grid_template_rows": null,
            "right": null,
            "justify_content": null,
            "_view_module": "@jupyter-widgets/base",
            "overflow": null,
            "_model_module_version": "1.2.0",
            "_view_count": null,
            "flex_flow": null,
            "width": null,
            "min_width": null,
            "border": null,
            "align_items": null,
            "bottom": null,
            "_model_module": "@jupyter-widgets/base",
            "top": null,
            "grid_column": null,
            "overflow_y": null,
            "overflow_x": null,
            "grid_auto_flow": null,
            "grid_area": null,
            "grid_template_columns": null,
            "flex": null,
            "_model_name": "LayoutModel",
            "justify_items": null,
            "grid_row": null,
            "max_height": null,
            "align_content": null,
            "visibility": null,
            "align_self": null,
            "height": null,
            "min_height": null,
            "padding": null,
            "grid_auto_rows": null,
            "grid_gap": null,
            "max_width": null,
            "order": null,
            "_view_module_version": "1.2.0",
            "grid_template_areas": null,
            "object_position": null,
            "object_fit": null,
            "grid_auto_columns": null,
            "margin": null,
            "display": null,
            "left": null
          }
        },
        "9e540304b0f54fea95d30daabf48cfe7": {
          "model_module": "@jupyter-widgets/controls",
          "model_name": "HBoxModel",
          "state": {
            "_view_name": "HBoxView",
            "_dom_classes": [],
            "_model_name": "HBoxModel",
            "_view_module": "@jupyter-widgets/controls",
            "_model_module_version": "1.5.0",
            "_view_count": null,
            "_view_module_version": "1.5.0",
            "box_style": "",
            "layout": "IPY_MODEL_622ae60f45114cc9842f1014c07d3f94",
            "_model_module": "@jupyter-widgets/controls",
            "children": [
              "IPY_MODEL_ca482841fd8d45148afa3a322c0df4dc",
              "IPY_MODEL_c31564b2fa4b47ee8666428d66c36dda"
            ]
          }
        },
        "622ae60f45114cc9842f1014c07d3f94": {
          "model_module": "@jupyter-widgets/base",
          "model_name": "LayoutModel",
          "state": {
            "_view_name": "LayoutView",
            "grid_template_rows": null,
            "right": null,
            "justify_content": null,
            "_view_module": "@jupyter-widgets/base",
            "overflow": null,
            "_model_module_version": "1.2.0",
            "_view_count": null,
            "flex_flow": null,
            "width": null,
            "min_width": null,
            "border": null,
            "align_items": null,
            "bottom": null,
            "_model_module": "@jupyter-widgets/base",
            "top": null,
            "grid_column": null,
            "overflow_y": null,
            "overflow_x": null,
            "grid_auto_flow": null,
            "grid_area": null,
            "grid_template_columns": null,
            "flex": null,
            "_model_name": "LayoutModel",
            "justify_items": null,
            "grid_row": null,
            "max_height": null,
            "align_content": null,
            "visibility": null,
            "align_self": null,
            "height": null,
            "min_height": null,
            "padding": null,
            "grid_auto_rows": null,
            "grid_gap": null,
            "max_width": null,
            "order": null,
            "_view_module_version": "1.2.0",
            "grid_template_areas": null,
            "object_position": null,
            "object_fit": null,
            "grid_auto_columns": null,
            "margin": null,
            "display": null,
            "left": null
          }
        },
        "ca482841fd8d45148afa3a322c0df4dc": {
          "model_module": "@jupyter-widgets/controls",
          "model_name": "FloatProgressModel",
          "state": {
            "_view_name": "ProgressView",
            "style": "IPY_MODEL_7ed200f702d04a52ab72f7ef7723eaad",
            "_dom_classes": [],
            "description": "",
            "_model_name": "FloatProgressModel",
            "bar_style": "success",
            "max": 1,
            "_view_module": "@jupyter-widgets/controls",
            "_model_module_version": "1.5.0",
            "value": 1,
            "_view_count": null,
            "_view_module_version": "1.5.0",
            "orientation": "horizontal",
            "min": 0,
            "description_tooltip": null,
            "_model_module": "@jupyter-widgets/controls",
            "layout": "IPY_MODEL_77655eee506d4e688a1d5adb619cbcfb"
          }
        },
        "c31564b2fa4b47ee8666428d66c36dda": {
          "model_module": "@jupyter-widgets/controls",
          "model_name": "HTMLModel",
          "state": {
            "_view_name": "HTMLView",
            "style": "IPY_MODEL_8cd7ef042eea4a2e9f78ae5420a85662",
            "_dom_classes": [],
            "description": "",
            "_model_name": "HTMLModel",
            "placeholder": "​",
            "_view_module": "@jupyter-widgets/controls",
            "_model_module_version": "1.5.0",
            "value": " 8192/? [00:07&lt;00:00, 1093.24it/s]",
            "_view_count": null,
            "_view_module_version": "1.5.0",
            "description_tooltip": null,
            "_model_module": "@jupyter-widgets/controls",
            "layout": "IPY_MODEL_a9833b100c394baeae4de95799ebf7ca"
          }
        },
        "7ed200f702d04a52ab72f7ef7723eaad": {
          "model_module": "@jupyter-widgets/controls",
          "model_name": "ProgressStyleModel",
          "state": {
            "_view_name": "StyleView",
            "_model_name": "ProgressStyleModel",
            "description_width": "initial",
            "_view_module": "@jupyter-widgets/base",
            "_model_module_version": "1.5.0",
            "_view_count": null,
            "_view_module_version": "1.2.0",
            "bar_color": null,
            "_model_module": "@jupyter-widgets/controls"
          }
        },
        "77655eee506d4e688a1d5adb619cbcfb": {
          "model_module": "@jupyter-widgets/base",
          "model_name": "LayoutModel",
          "state": {
            "_view_name": "LayoutView",
            "grid_template_rows": null,
            "right": null,
            "justify_content": null,
            "_view_module": "@jupyter-widgets/base",
            "overflow": null,
            "_model_module_version": "1.2.0",
            "_view_count": null,
            "flex_flow": null,
            "width": null,
            "min_width": null,
            "border": null,
            "align_items": null,
            "bottom": null,
            "_model_module": "@jupyter-widgets/base",
            "top": null,
            "grid_column": null,
            "overflow_y": null,
            "overflow_x": null,
            "grid_auto_flow": null,
            "grid_area": null,
            "grid_template_columns": null,
            "flex": null,
            "_model_name": "LayoutModel",
            "justify_items": null,
            "grid_row": null,
            "max_height": null,
            "align_content": null,
            "visibility": null,
            "align_self": null,
            "height": null,
            "min_height": null,
            "padding": null,
            "grid_auto_rows": null,
            "grid_gap": null,
            "max_width": null,
            "order": null,
            "_view_module_version": "1.2.0",
            "grid_template_areas": null,
            "object_position": null,
            "object_fit": null,
            "grid_auto_columns": null,
            "margin": null,
            "display": null,
            "left": null
          }
        },
        "8cd7ef042eea4a2e9f78ae5420a85662": {
          "model_module": "@jupyter-widgets/controls",
          "model_name": "DescriptionStyleModel",
          "state": {
            "_view_name": "StyleView",
            "_model_name": "DescriptionStyleModel",
            "description_width": "",
            "_view_module": "@jupyter-widgets/base",
            "_model_module_version": "1.5.0",
            "_view_count": null,
            "_view_module_version": "1.2.0",
            "_model_module": "@jupyter-widgets/controls"
          }
        },
        "a9833b100c394baeae4de95799ebf7ca": {
          "model_module": "@jupyter-widgets/base",
          "model_name": "LayoutModel",
          "state": {
            "_view_name": "LayoutView",
            "grid_template_rows": null,
            "right": null,
            "justify_content": null,
            "_view_module": "@jupyter-widgets/base",
            "overflow": null,
            "_model_module_version": "1.2.0",
            "_view_count": null,
            "flex_flow": null,
            "width": null,
            "min_width": null,
            "border": null,
            "align_items": null,
            "bottom": null,
            "_model_module": "@jupyter-widgets/base",
            "top": null,
            "grid_column": null,
            "overflow_y": null,
            "overflow_x": null,
            "grid_auto_flow": null,
            "grid_area": null,
            "grid_template_columns": null,
            "flex": null,
            "_model_name": "LayoutModel",
            "justify_items": null,
            "grid_row": null,
            "max_height": null,
            "align_content": null,
            "visibility": null,
            "align_self": null,
            "height": null,
            "min_height": null,
            "padding": null,
            "grid_auto_rows": null,
            "grid_gap": null,
            "max_width": null,
            "order": null,
            "_view_module_version": "1.2.0",
            "grid_template_areas": null,
            "object_position": null,
            "object_fit": null,
            "grid_auto_columns": null,
            "margin": null,
            "display": null,
            "left": null
          }
        }
      }
    }
  },
  "cells": [
    {
      "cell_type": "markdown",
      "metadata": {
        "id": "yeULNGvKsjcr"
      },
      "source": [
        "# Домашнее задание 1"
      ]
    },
    {
      "cell_type": "code",
      "metadata": {
        "colab": {
          "base_uri": "https://localhost:8080/"
        },
        "id": "0_tm-KitmzJu",
        "outputId": "fd69d628-c40b-46f2-aede-33994caa34a6"
      },
      "source": [
        "!pip3 install torch torchvision"
      ],
      "execution_count": 17,
      "outputs": [
        {
          "output_type": "stream",
          "text": [
            "Requirement already satisfied: torch in /usr/local/lib/python3.6/dist-packages (1.7.0+cu101)\n",
            "Requirement already satisfied: torchvision in /usr/local/lib/python3.6/dist-packages (0.8.1+cu101)\n",
            "Requirement already satisfied: dataclasses in /usr/local/lib/python3.6/dist-packages (from torch) (0.8)\n",
            "Requirement already satisfied: typing-extensions in /usr/local/lib/python3.6/dist-packages (from torch) (3.7.4.3)\n",
            "Requirement already satisfied: future in /usr/local/lib/python3.6/dist-packages (from torch) (0.16.0)\n",
            "Requirement already satisfied: numpy in /usr/local/lib/python3.6/dist-packages (from torch) (1.18.5)\n",
            "Requirement already satisfied: pillow>=4.1.1 in /usr/local/lib/python3.6/dist-packages (from torchvision) (7.0.0)\n"
          ],
          "name": "stdout"
        }
      ]
    },
    {
      "cell_type": "code",
      "metadata": {
        "colab": {
          "base_uri": "https://localhost:8080/"
        },
        "id": "wRrIzvtTnAhP",
        "outputId": "a4f026f8-d069-4ea1-f01f-8fafd8e580d7"
      },
      "source": [
        "!nvcc --version"
      ],
      "execution_count": 18,
      "outputs": [
        {
          "output_type": "stream",
          "text": [
            "nvcc: NVIDIA (R) Cuda compiler driver\n",
            "Copyright (c) 2005-2019 NVIDIA Corporation\n",
            "Built on Sun_Jul_28_19:07:16_PDT_2019\n",
            "Cuda compilation tools, release 10.1, V10.1.243\n"
          ],
          "name": "stdout"
        }
      ]
    },
    {
      "cell_type": "code",
      "metadata": {
        "id": "bDy62dIlnEXr"
      },
      "source": [
        "import torch\n",
        "import random\n",
        "import numpy as np\n",
        "import torch\n",
        "import torchvision\n",
        "from torch import nn \n",
        "from torch import optim\n",
        "import torchvision.transforms as transforms\n",
        "import matplotlib.pyplot as plt\n",
        "import torch.nn.functional as F\n",
        "import torchvision\n",
        "import torch.utils"
      ],
      "execution_count": 19,
      "outputs": []
    },
    {
      "cell_type": "code",
      "metadata": {
        "id": "ychbam1SxEsx"
      },
      "source": [
        "random.seed(0)\n",
        "np.random.seed(0)\n",
        "torch.manual_seed(0)\n",
        "torch.cuda.manual_seed(0)\n",
        "torch.backends.cudnn.deterministic = True"
      ],
      "execution_count": 20,
      "outputs": []
    },
    {
      "cell_type": "markdown",
      "metadata": {
        "id": "Oxx8jdkSshhK"
      },
      "source": [
        "## 1.\tДобиться вразумительного результата от модели, собранной на занятии (3 угаданные картинки из 4 предложенных на семинаре). Варианты изменений:\n",
        "\n",
        "a.\tизменение слоёв и их количества;\n",
        "\n",
        "b.\tизменение метода оптимизации; \n",
        "\n",
        "c.\tизменение процесса обучения; \n",
        "\n",
        "d.\tдля продвинутых: преобразование данных.\n"
      ]
    },
    {
      "cell_type": "code",
      "metadata": {
        "id": "-PeVdoWMv3qc"
      },
      "source": [
        "classes = ('plane', 'car', 'bird', 'cat',\n",
        "           'deer', 'dog', 'frog', 'horse', 'ship', 'truck')"
      ],
      "execution_count": 21,
      "outputs": []
    },
    {
      "cell_type": "code",
      "metadata": {
        "colab": {
          "base_uri": "https://localhost:8080/"
        },
        "id": "PdwtqBygv3n_",
        "outputId": "9f0e1db1-cda4-4194-a5e3-f94b1c88642e"
      },
      "source": [
        "train_dataset = torchvision.datasets.CIFAR10(root='../../data/',\n",
        "                                             train=True,  \n",
        "                                             transform=transforms.ToTensor(), \n",
        "                                             download=True)\n",
        "\n",
        "\n",
        "image, label = train_dataset[0]\n",
        "print (image.size())\n",
        "print (classes[label])"
      ],
      "execution_count": 22,
      "outputs": [
        {
          "output_type": "stream",
          "text": [
            "Files already downloaded and verified\n",
            "torch.Size([3, 32, 32])\n",
            "frog\n"
          ],
          "name": "stdout"
        }
      ]
    },
    {
      "cell_type": "code",
      "metadata": {
        "colab": {
          "base_uri": "https://localhost:8080/",
          "height": 283
        },
        "id": "RM_Ve6iSv3lc",
        "outputId": "2680ac34-32ae-48fc-b20c-cbe892377545"
      },
      "source": [
        "plt.imshow(image.permute(1, 2, 0).numpy())"
      ],
      "execution_count": 23,
      "outputs": [
        {
          "output_type": "execute_result",
          "data": {
            "text/plain": [
              "<matplotlib.image.AxesImage at 0x7f9f301f63c8>"
            ]
          },
          "metadata": {
            "tags": []
          },
          "execution_count": 23
        },
        {
          "output_type": "display_data",
          "data": {
            "image/png": "[encoded data removed]",
            "text/plain": [
              "<Figure size 432x288 with 1 Axes>"
            ]
          },
          "metadata": {
            "tags": [],
            "needs_background": "light"
          }
        }
      ]
    },
    {
      "cell_type": "code",
      "metadata": {
        "id": "bY6FtOcWv3iu"
      },
      "source": [
        "train_loader = torch.utils.data.DataLoader(dataset=train_dataset,\n",
        "                                           batch_size=64, \n",
        "                                           shuffle=True)"
      ],
      "execution_count": 24,
      "outputs": []
    },
    {
      "cell_type": "code",
      "metadata": {
        "colab": {
          "base_uri": "https://localhost:8080/"
        },
        "id": "d2lN7n0mv3gN",
        "outputId": "36ee1b46-bffc-445c-87ce-a92364d0c2f2"
      },
      "source": [
        "test_dataset = torchvision.datasets.CIFAR10(root='./data', train=False,\n",
        "                                       download=True, transform=transforms.ToTensor())\n",
        "test_loader = torch.utils.data.DataLoader(test_dataset, batch_size=4,\n",
        "                                         shuffle=False)"
      ],
      "execution_count": 25,
      "outputs": [
        {
          "output_type": "stream",
          "text": [
            "Files already downloaded and verified\n"
          ],
          "name": "stdout"
        }
      ]
    },
    {
      "cell_type": "code",
      "metadata": {
        "id": "cw141B4TwY7r"
      },
      "source": [
        "device = 'cpu'"
      ],
      "execution_count": 26,
      "outputs": []
    },
    {
      "cell_type": "code",
      "metadata": {
        "id": "pPx9RsG3v3ds"
      },
      "source": [
        "class Net(nn.Module):\n",
        "    def __init__(self):\n",
        "        super().__init__()\n",
        "        self.conv1 = nn.Conv2d(3, 6, 5)\n",
        "        self.pool = nn.MaxPool2d(2, 2)\n",
        "        self.conv2 = nn.Conv2d(6, 16, 5)\n",
        "        self.fc1 = nn.Linear(16 * 5 * 5, 120)\n",
        "        self.fc2 = nn.Linear(120, 84)\n",
        "        self.fc3 = nn.Linear(84, 10)\n",
        "\n",
        "    def forward(self, x):\n",
        "        x = self.pool(F.relu(self.conv1(x)))\n",
        "        x = self.pool(F.relu(self.conv2(x)))\n",
        "        x = x.view(-1, 16 * 5 * 5)\n",
        "        x = F.relu(self.fc1(x))\n",
        "        x = F.relu(self.fc2(x))\n",
        "        x = self.fc3(x)\n",
        "        return x\n",
        "\n",
        "\n",
        "net = Net().to(device)"
      ],
      "execution_count": 27,
      "outputs": []
    },
    {
      "cell_type": "code",
      "metadata": {
        "id": "WfNqlQc2v3bE"
      },
      "source": [
        "criterion = nn.CrossEntropyLoss()\n",
        "optimizer = optim.SGD(net.parameters(), lr=0.001, momentum=0.9)"
      ],
      "execution_count": 28,
      "outputs": []
    },
    {
      "cell_type": "code",
      "metadata": {
        "colab": {
          "base_uri": "https://localhost:8080/"
        },
        "id": "Qg5IDuewv3T0",
        "outputId": "a660dfde-5c6d-4ca2-c756-43acdeda9c2c"
      },
      "source": [
        "for epoch in range(10):  \n",
        "    running_loss = 0.0\n",
        "    for i, data in enumerate(train_loader, 0):\n",
        "        inputs, labels = data[0], data[1]\n",
        "\n",
        "        # обнуляем градиент\n",
        "        optimizer.zero_grad()\n",
        "\n",
        "        outputs = net(inputs)\n",
        "        loss = criterion(outputs, labels)\n",
        "        loss.backward()\n",
        "        optimizer.step()\n",
        "\n",
        "        # выводим статистику о процессе обучения\n",
        "        running_loss += loss.item()\n",
        "        if i % 300 == 0:   \n",
        "            print('[%d, %5d] loss: %.3f' %\n",
        "                  (epoch + 1, i + 1, running_loss / 2000))\n",
        "            running_loss = 0.0\n",
        "\n",
        "print('Training is finished!')"
      ],
      "execution_count": 29,
      "outputs": [
        {
          "output_type": "stream",
          "text": [
            "[1,     1] loss: 0.001\n",
            "[1,   301] loss: 0.346\n",
            "[1,   601] loss: 0.345\n",
            "[2,     1] loss: 0.001\n",
            "[2,   301] loss: 0.345\n",
            "[2,   601] loss: 0.345\n",
            "[3,     1] loss: 0.001\n",
            "[3,   301] loss: 0.343\n",
            "[3,   601] loss: 0.330\n",
            "[4,     1] loss: 0.001\n",
            "[4,   301] loss: 0.306\n",
            "[4,   601] loss: 0.300\n",
            "[5,     1] loss: 0.001\n",
            "[5,   301] loss: 0.294\n",
            "[5,   601] loss: 0.289\n",
            "[6,     1] loss: 0.001\n",
            "[6,   301] loss: 0.281\n",
            "[6,   601] loss: 0.276\n",
            "[7,     1] loss: 0.001\n",
            "[7,   301] loss: 0.267\n",
            "[7,   601] loss: 0.260\n",
            "[8,     1] loss: 0.001\n",
            "[8,   301] loss: 0.250\n",
            "[8,   601] loss: 0.246\n",
            "[9,     1] loss: 0.001\n",
            "[9,   301] loss: 0.237\n",
            "[9,   601] loss: 0.234\n",
            "[10,     1] loss: 0.001\n",
            "[10,   301] loss: 0.228\n",
            "[10,   601] loss: 0.224\n",
            "Training is finished!\n"
          ],
          "name": "stdout"
        }
      ]
    },
    {
      "cell_type": "code",
      "metadata": {
        "id": "vksPrJJjv3Qs"
      },
      "source": [
        "PATH = './cifar_net_version_test_intro.pth'\n",
        "torch.save(net.state_dict(), PATH)"
      ],
      "execution_count": 30,
      "outputs": []
    },
    {
      "cell_type": "code",
      "metadata": {
        "colab": {
          "base_uri": "https://localhost:8080/"
        },
        "id": "3dbRsmQ7wwEK",
        "outputId": "cb00bbba-da7a-4015-edc0-02fb3c45f0dd"
      },
      "source": [
        "net = Net()\n",
        "net.load_state_dict(torch.load(PATH))"
      ],
      "execution_count": 31,
      "outputs": [
        {
          "output_type": "execute_result",
          "data": {
            "text/plain": [
              "<All keys matched successfully>"
            ]
          },
          "metadata": {
            "tags": []
          },
          "execution_count": 31
        }
      ]
    },
    {
      "cell_type": "code",
      "metadata": {
        "id": "_qfyi9TKwwB7"
      },
      "source": [
        "data_iter = iter(test_loader)\n",
        "images, labels = data_iter.next()"
      ],
      "execution_count": 32,
      "outputs": []
    },
    {
      "cell_type": "code",
      "metadata": {
        "colab": {
          "base_uri": "https://localhost:8080/",
          "height": 155
        },
        "id": "hTtqviVjwv_W",
        "outputId": "e195a6d5-a992-4ea0-ea6b-04e4a7d7912b"
      },
      "source": [
        "outputs = net(images)\n",
        "imgs = torchvision.utils.make_grid(images)\n",
        "plt.imshow(imgs.permute(1, 2, 0).numpy())\n",
        "print('GroundTruth: ', ' '.join('%5s' % classes[labels[j]] for j in range(4)))"
      ],
      "execution_count": 33,
      "outputs": [
        {
          "output_type": "stream",
          "text": [
            "GroundTruth:    cat  ship  ship plane\n"
          ],
          "name": "stdout"
        },
        {
          "output_type": "display_data",
          "data": {
            "image/png": "[encoded data removed]",
            "text/plain": [
              "<Figure size 432x288 with 1 Axes>"
            ]
          },
          "metadata": {
            "tags": [],
            "needs_background": "light"
          }
        }
      ]
    },
    {
      "cell_type": "code",
      "metadata": {
        "id": "J9t0zMRQwv8i"
      },
      "source": [
        "class Net_layer(nn.Module):\n",
        "    def __init__(self):\n",
        "        super().__init__()\n",
        "        self.conv1 = nn.Conv2d(3, 6, 5)\n",
        "        self.pool = nn.MaxPool2d(2, 2)\n",
        "        self.conv2 = nn.Conv2d(6, 16, 5)\n",
        "        self.fc1 = nn.Linear(16 * 5 * 5, 120)\n",
        "        self.fc2 = nn.Linear(120, 10)\n",
        "\n",
        "    def forward(self, x):\n",
        "        x = self.pool(F.relu(self.conv1(x)))\n",
        "        x = self.pool(F.relu(self.conv2(x)))\n",
        "        x = x.view(-1, 16 * 5 * 5)\n",
        "        x = F.relu(self.fc1(x))\n",
        "        # x = F.relu(self.fc2(x))\n",
        "        # x = F.relu(self.fc3(x))\n",
        "        x = self.fc2(x)\n",
        "        return x"
      ],
      "execution_count": 34,
      "outputs": []
    },
    {
      "cell_type": "code",
      "metadata": {
        "id": "f0dAc7Zlwv5G"
      },
      "source": [
        "def training_model(model, optimizer, train_data, test_loss_history, num_epoch=10, criterion = nn.CrossEntropyLoss()):\n",
        "    for epoch in range(num_epoch):  \n",
        "        running_loss = 0.0\n",
        "        for i, data in enumerate(train_data, 0):\n",
        "            inputs, labels = data\n",
        "            # обнуляем градиент\n",
        "            optimizer.zero_grad()\n",
        "            outputs = model(inputs)\n",
        "            loss = criterion(outputs, labels)\n",
        "            loss.backward()\n",
        "            optimizer.step()\n",
        "\n",
        "            # выводим статистику о процессе обучения\n",
        "            running_loss += loss.item()\n",
        "            if i % 300 == 299:   \n",
        "                loss = running_loss / 2000\n",
        "                test_loss_history.append(loss)\n",
        "                print('[%d, %5d] loss: %.3f' %\n",
        "                     (epoch + 1, i + 1, running_loss / 2000))\n",
        "                running_loss = 0.0\n",
        "\n",
        "    print('Training is finished!')"
      ],
      "execution_count": 35,
      "outputs": []
    },
    {
      "cell_type": "code",
      "metadata": {
        "colab": {
          "base_uri": "https://localhost:8080/"
        },
        "id": "4nafsOdFwv1i",
        "outputId": "26478d83-d744-41fd-dd84-e82f439fb3b9"
      },
      "source": [
        "model = Net_layer().to('cpu')\n",
        "optimizer = optim.SGD(model.parameters(), lr=0.001, momentum=0.9)\n",
        "test_loss_history = []\n",
        "training_model(model, optimizer, train_loader, test_loss_history, 10)"
      ],
      "execution_count": 36,
      "outputs": [
        {
          "output_type": "stream",
          "text": [
            "[1,   300] loss: 0.345\n",
            "[1,   600] loss: 0.341\n",
            "[2,   300] loss: 0.316\n",
            "[2,   600] loss: 0.300\n",
            "[3,   300] loss: 0.289\n",
            "[3,   600] loss: 0.279\n",
            "[4,   300] loss: 0.261\n",
            "[4,   600] loss: 0.252\n",
            "[5,   300] loss: 0.241\n",
            "[5,   600] loss: 0.239\n",
            "[6,   300] loss: 0.230\n",
            "[6,   600] loss: 0.227\n",
            "[7,   300] loss: 0.222\n",
            "[7,   600] loss: 0.220\n",
            "[8,   300] loss: 0.216\n",
            "[8,   600] loss: 0.215\n",
            "[9,   300] loss: 0.210\n",
            "[9,   600] loss: 0.211\n",
            "[10,   300] loss: 0.207\n",
            "[10,   600] loss: 0.206\n",
            "Training is finished!\n"
          ],
          "name": "stdout"
        }
      ]
    },
    {
      "cell_type": "code",
      "metadata": {
        "colab": {
          "base_uri": "https://localhost:8080/",
          "height": 265
        },
        "id": "c-LkfUxvw_0M",
        "outputId": "d66c4079-313a-4649-b3c0-b6380f62061d"
      },
      "source": [
        "plt.plot(test_loss_history);"
      ],
      "execution_count": 37,
      "outputs": [
        {
          "output_type": "display_data",
          "data": {
            "image/png": "[encoded data removed]",
            "text/plain": [
              "<Figure size 432x288 with 1 Axes>"
            ]
          },
          "metadata": {
            "tags": [],
            "needs_background": "light"
          }
        }
      ]
    },
    {
      "cell_type": "code",
      "metadata": {
        "colab": {
          "base_uri": "https://localhost:8080/"
        },
        "id": "hNfjsmtFw_xN",
        "outputId": "955c1bed-22a5-40fc-e74b-2bfcb806a338"
      },
      "source": [
        "model = Net().to('cpu')\n",
        "optimizer = optim.SGD(model.parameters(), lr=0.001, momentum=0.9)\n",
        "test_loss_history = []\n",
        "training_model(model, optimizer, train_loader, test_loss_history, 10)"
      ],
      "execution_count": 38,
      "outputs": [
        {
          "output_type": "stream",
          "text": [
            "[1,   300] loss: 0.345\n",
            "[1,   600] loss: 0.345\n",
            "[2,   300] loss: 0.345\n",
            "[2,   600] loss: 0.344\n",
            "[3,   300] loss: 0.338\n",
            "[3,   600] loss: 0.329\n",
            "[4,   300] loss: 0.309\n",
            "[4,   600] loss: 0.298\n",
            "[5,   300] loss: 0.290\n",
            "[5,   600] loss: 0.282\n",
            "[6,   300] loss: 0.273\n",
            "[6,   600] loss: 0.266\n",
            "[7,   300] loss: 0.252\n",
            "[7,   600] loss: 0.249\n",
            "[8,   300] loss: 0.241\n",
            "[8,   600] loss: 0.240\n",
            "[9,   300] loss: 0.233\n",
            "[9,   600] loss: 0.230\n",
            "[10,   300] loss: 0.225\n",
            "[10,   600] loss: 0.224\n",
            "Training is finished!\n"
          ],
          "name": "stdout"
        }
      ]
    },
    {
      "cell_type": "code",
      "metadata": {
        "colab": {
          "base_uri": "https://localhost:8080/",
          "height": 265
        },
        "id": "aiObYOC9w_tb",
        "outputId": "8fcc6fc0-a01b-42e5-c7ae-68565b886792"
      },
      "source": [
        "plt.plot(test_loss_history);"
      ],
      "execution_count": 39,
      "outputs": [
        {
          "output_type": "display_data",
          "data": {
            "image/png": "[encoded data removed]",
            "text/plain": [
              "<Figure size 432x288 with 1 Axes>"
            ]
          },
          "metadata": {
            "tags": [],
            "needs_background": "light"
          }
        }
      ]
    },
    {
      "cell_type": "code",
      "metadata": {
        "colab": {
          "base_uri": "https://localhost:8080/"
        },
        "id": "8MAhQiaIw_qq",
        "outputId": "e3022114-a777-4850-b27b-6e6abc470c67"
      },
      "source": [
        "model = Net_layer().to('cpu')\n",
        "optimizer = optim.Adam(model.parameters(), lr=0.001)\n",
        "test_loss_history = []\n",
        "training_model(model, optimizer, train_loader, test_loss_history, 10)"
      ],
      "execution_count": 40,
      "outputs": [
        {
          "output_type": "stream",
          "text": [
            "[1,   300] loss: 0.291\n",
            "[1,   600] loss: 0.252\n",
            "[2,   300] loss: 0.229\n",
            "[2,   600] loss: 0.218\n",
            "[3,   300] loss: 0.210\n",
            "[3,   600] loss: 0.203\n",
            "[4,   300] loss: 0.194\n",
            "[4,   600] loss: 0.193\n",
            "[5,   300] loss: 0.186\n",
            "[5,   600] loss: 0.182\n",
            "[6,   300] loss: 0.178\n",
            "[6,   600] loss: 0.179\n",
            "[7,   300] loss: 0.172\n",
            "[7,   600] loss: 0.169\n",
            "[8,   300] loss: 0.165\n",
            "[8,   600] loss: 0.164\n",
            "[9,   300] loss: 0.158\n",
            "[9,   600] loss: 0.162\n",
            "[10,   300] loss: 0.156\n",
            "[10,   600] loss: 0.155\n",
            "Training is finished!\n"
          ],
          "name": "stdout"
        }
      ]
    },
    {
      "cell_type": "code",
      "metadata": {
        "colab": {
          "base_uri": "https://localhost:8080/",
          "height": 265
        },
        "id": "xG-RF7k0wvqS",
        "outputId": "2520cb40-8c57-470b-cd01-bb988de6e504"
      },
      "source": [
        "plt.plot(test_loss_history);"
      ],
      "execution_count": 41,
      "outputs": [
        {
          "output_type": "display_data",
          "data": {
            "image/png": "[encoded data removed]",
            "text/plain": [
              "<Figure size 432x288 with 1 Axes>"
            ]
          },
          "metadata": {
            "tags": [],
            "needs_background": "light"
          }
        }
      ]
    },
    {
      "cell_type": "code",
      "metadata": {
        "id": "VHKJPkE8xaMi"
      },
      "source": [
        "transform = transforms.Compose(\n",
        "    [transforms.ToTensor(),\n",
        "     transforms.Normalize((0.5, 0.5, 0.5), (0.5, 0.5, 0.5))])"
      ],
      "execution_count": 42,
      "outputs": []
    },
    {
      "cell_type": "code",
      "metadata": {
        "id": "bheyuVEuxaKV"
      },
      "source": [
        "train_dataset = torchvision.datasets.CIFAR10(root='../../data/',\n",
        "                                             train=True,  \n",
        "                                             transform=transform, \n",
        "                                             download=False)"
      ],
      "execution_count": 43,
      "outputs": []
    },
    {
      "cell_type": "code",
      "metadata": {
        "id": "PX3ecxk_xaIB"
      },
      "source": [
        "train_loader = torch.utils.data.DataLoader(dataset=train_dataset,\n",
        "                                           batch_size=64, \n",
        "                                           shuffle=True)"
      ],
      "execution_count": 44,
      "outputs": []
    },
    {
      "cell_type": "code",
      "metadata": {
        "colab": {
          "base_uri": "https://localhost:8080/"
        },
        "id": "-zdbS4MdxaFO",
        "outputId": "2b3d5438-e433-42ef-8554-273e55b6aaa6"
      },
      "source": [
        "model = Net().to('cpu')\n",
        "optimizer = optim.SGD(model.parameters(), lr=0.001, momentum=0.9)\n",
        "test_loss_history = []\n",
        "training_model(model, optimizer, train_loader, test_loss_history, 10)"
      ],
      "execution_count": 45,
      "outputs": [
        {
          "output_type": "stream",
          "text": [
            "[1,   300] loss: 0.346\n",
            "[1,   600] loss: 0.345\n",
            "[2,   300] loss: 0.338\n",
            "[2,   600] loss: 0.324\n",
            "[3,   300] loss: 0.301\n",
            "[3,   600] loss: 0.290\n",
            "[4,   300] loss: 0.277\n",
            "[4,   600] loss: 0.267\n",
            "[5,   300] loss: 0.253\n",
            "[5,   600] loss: 0.248\n",
            "[6,   300] loss: 0.239\n",
            "[6,   600] loss: 0.231\n",
            "[7,   300] loss: 0.226\n",
            "[7,   600] loss: 0.223\n",
            "[8,   300] loss: 0.217\n",
            "[8,   600] loss: 0.215\n",
            "[9,   300] loss: 0.211\n",
            "[9,   600] loss: 0.209\n",
            "[10,   300] loss: 0.204\n",
            "[10,   600] loss: 0.205\n",
            "Training is finished!\n"
          ],
          "name": "stdout"
        }
      ]
    },
    {
      "cell_type": "code",
      "metadata": {
        "colab": {
          "base_uri": "https://localhost:8080/",
          "height": 265
        },
        "id": "1XHic4lsxaCi",
        "outputId": "d3d74822-1b8d-406c-acb4-36cfe9d39c99"
      },
      "source": [
        "plt.plot(test_loss_history);"
      ],
      "execution_count": 46,
      "outputs": [
        {
          "output_type": "display_data",
          "data": {
            "image/png": "[encoded data removed]",
            "text/plain": [
              "<Figure size 432x288 with 1 Axes>"
            ]
          },
          "metadata": {
            "tags": [],
            "needs_background": "light"
          }
        }
      ]
    },
    {
      "cell_type": "code",
      "metadata": {
        "id": "5FjX3Ys_txQo"
      },
      "source": [
        ""
      ],
      "execution_count": 30,
      "outputs": []
    },
    {
      "cell_type": "markdown",
      "metadata": {
        "id": "PXAcyv5Sshbj"
      },
      "source": [
        "## 2.\tВзять часть, где мы делали один шаг обучения, и обернуть его в цикл по схеме, как обучали модель в конце занятия."
      ]
    },
    {
      "cell_type": "code",
      "metadata": {
        "id": "6JeU48udx6w9"
      },
      "source": [
        "transform = transforms.Compose(\n",
        "    [transforms.ToTensor(),\n",
        "     transforms.Normalize((0.5, 0.5, 0.5), (0.5, 0.5, 0.5))])"
      ],
      "execution_count": 60,
      "outputs": []
    },
    {
      "cell_type": "code",
      "metadata": {
        "colab": {
          "base_uri": "https://localhost:8080/"
        },
        "id": "Bi7-2WMJx6ue",
        "outputId": "c964e0c2-4581-4ba2-9ba5-91f25a63937c"
      },
      "source": [
        "trainset = torchvision.datasets.CIFAR10(root='./data', train=True,\n",
        "                                        download=True, transform=transform)\n",
        "trainloader = torch.utils.data.DataLoader(trainset, batch_size=1000,\n",
        "                                          shuffle=True, num_workers=12)"
      ],
      "execution_count": 61,
      "outputs": [
        {
          "output_type": "stream",
          "text": [
            "Files already downloaded and verified\n"
          ],
          "name": "stdout"
        }
      ]
    },
    {
      "cell_type": "code",
      "metadata": {
        "colab": {
          "base_uri": "https://localhost:8080/"
        },
        "id": "2O9I4fUtx6sC",
        "outputId": "1ba98fe0-1e46-47fb-e178-b35c85838f6e"
      },
      "source": [
        "testset = torchvision.datasets.CIFAR10(root='./data', train=False,\n",
        "                                       download=True, transform=transform)\n",
        "testloader = torch.utils.data.DataLoader(testset, batch_size=125,\n",
        "                                         shuffle=False, num_workers=12)"
      ],
      "execution_count": 62,
      "outputs": [
        {
          "output_type": "stream",
          "text": [
            "Files already downloaded and verified\n"
          ],
          "name": "stdout"
        }
      ]
    },
    {
      "cell_type": "code",
      "metadata": {
        "id": "II2Pn2Ozx6pJ"
      },
      "source": [
        "def imshow(img):\n",
        "    img = img / 2 + 0.5\n",
        "    npimg = img.numpy()\n",
        "    plt.imshow(np.transpose(npimg, (1, 2, 0)))\n",
        "    plt.show()"
      ],
      "execution_count": 63,
      "outputs": []
    },
    {
      "cell_type": "code",
      "metadata": {
        "id": "fd74L1-6x6mw"
      },
      "source": [
        "dataiter = iter(trainloader)\n",
        "images, labels = dataiter.next()"
      ],
      "execution_count": 64,
      "outputs": []
    },
    {
      "cell_type": "code",
      "metadata": {
        "colab": {
          "base_uri": "https://localhost:8080/",
          "height": 269
        },
        "id": "rgnqeejmx6kL",
        "outputId": "bf4bf874-86cd-48d5-d787-70ad4a0a5ac9"
      },
      "source": [
        "imshow(torchvision.utils.make_grid(images))"
      ],
      "execution_count": 65,
      "outputs": [
        {
          "output_type": "display_data",
          "data": {
            "image/png": "[encoded data removed]",
            "text/plain": [
              "<Figure size 432x288 with 1 Axes>"
            ]
          },
          "metadata": {
            "tags": [],
            "needs_background": "light"
          }
        }
      ]
    },
    {
      "cell_type": "code",
      "metadata": {
        "id": "dDe2jvzqx6hm"
      },
      "source": [
        "class Net(nn.Module):\n",
        "    def __init__(self):\n",
        "        super(Net, self).__init__()\n",
        "        self.conv1 = nn.Conv2d(3, 60, 5)\n",
        "        self.pool = nn.MaxPool2d(2, 2)\n",
        "        self.conv2 = nn.Conv2d(60, 120, 3)\n",
        "        self.fc1 = nn.Linear(120 * 6 * 6, 2048)\n",
        "        self.fc2 = nn.Linear(2048, 1024)\n",
        "        self.fc3 = nn.Linear(1024, 512)\n",
        "        self.fc4 = nn.Linear(512, 128)\n",
        "        self.fc5 = nn.Linear(128, 10)\n",
        "\n",
        "    def forward(self, x):\n",
        "        x = self.pool(F.relu(self.conv1(x)))\n",
        "        x = self.pool(F.relu(self.conv2(x)))\n",
        "        # print(x.shape)\n",
        "        x = x.view(-1, 120 * 6 * 6)\n",
        "        x = F.relu(self.fc1(x))\n",
        "        x = F.relu(self.fc2(x))\n",
        "        x = F.relu(self.fc3(x))\n",
        "        x = F.relu(self.fc4(x))\n",
        "        x = self.fc5(x)\n",
        "        return x"
      ],
      "execution_count": 66,
      "outputs": []
    },
    {
      "cell_type": "code",
      "metadata": {
        "colab": {
          "base_uri": "https://localhost:8080/"
        },
        "id": "pnmJrrQh0nq4",
        "outputId": "5c14dc7b-e143-4768-cdf3-81b07d9caedd"
      },
      "source": [
        "device = \"cpu\" # torch.device(\"cuda:0\" if torch.cuda.is_available() else \"cpu\")\n",
        "print(device)"
      ],
      "execution_count": 67,
      "outputs": [
        {
          "output_type": "stream",
          "text": [
            "cpu\n"
          ],
          "name": "stdout"
        }
      ]
    },
    {
      "cell_type": "code",
      "metadata": {
        "id": "mbPyDUXZylvP"
      },
      "source": [
        "net = Net()\n",
        "if device == \"cuda:0\":\n",
        "    net.to(device)"
      ],
      "execution_count": 68,
      "outputs": []
    },
    {
      "cell_type": "code",
      "metadata": {
        "id": "WLWxhyVBylsv"
      },
      "source": [
        "criterion = nn.CrossEntropyLoss()\n",
        "optimizer = optim.Adam(net.parameters(), lr=0.0001)"
      ],
      "execution_count": 69,
      "outputs": []
    },
    {
      "cell_type": "code",
      "metadata": {
        "colab": {
          "base_uri": "https://localhost:8080/"
        },
        "id": "3PYLGSuNylqW",
        "outputId": "6b0e2b4e-9ff6-43b9-d14f-a20d9959d6ce"
      },
      "source": [
        "for epoch in range(10):  # loop over the dataset multiple times\n",
        "\n",
        "    running_loss = 0.0\n",
        "    for i, data in enumerate(trainloader, 0):\n",
        "        # get the inputs; data is a list of [inputs, labels]\n",
        "        if device == \"cpu\":\n",
        "            inputs, labels = data\n",
        "        elif device == \"cuda:0\":\n",
        "            inputs, labels = data[0].to(device), data[1].to(device)\n",
        "        else:\n",
        "            print(\"DEVICE ERROR\")\n",
        "            break\n",
        "\n",
        "        # zero the parameter gradients\n",
        "        optimizer.zero_grad()\n",
        "\n",
        "        # forward + backward + optimize\n",
        "        outputs = net(inputs)\n",
        "        loss = criterion(outputs, labels)\n",
        "        loss.backward()\n",
        "        optimizer.step()\n",
        "\n",
        "        # print statistics\n",
        "        running_loss += loss.item()\n",
        "        if i % 50 == 49:    # print every 2000 mini-batches\n",
        "            print('[%d, %5d] loss: %.3f' %\n",
        "                  (epoch + 1, i + 1, running_loss / 49))\n",
        "            running_loss = 0.0\n",
        "print('Finished Training')"
      ],
      "execution_count": 70,
      "outputs": [
        {
          "output_type": "stream",
          "text": [
            "[1,    50] loss: 2.095\n",
            "[2,    50] loss: 1.755\n",
            "[3,    50] loss: 1.621\n",
            "[4,    50] loss: 1.533\n",
            "[5,    50] loss: 1.472\n",
            "[6,    50] loss: 1.423\n",
            "[7,    50] loss: 1.383\n",
            "[8,    50] loss: 1.340\n",
            "[9,    50] loss: 1.309\n",
            "[10,    50] loss: 1.273\n",
            "Finished Training\n"
          ],
          "name": "stdout"
        }
      ]
    },
    {
      "cell_type": "code",
      "metadata": {
        "colab": {
          "base_uri": "https://localhost:8080/"
        },
        "id": "3hu9NFi-ylnh",
        "outputId": "e4c7044e-fdab-4966-a604-dd0afe345a0e"
      },
      "source": [
        "correct = 0\n",
        "total = 0\n",
        "with torch.no_grad():\n",
        "    for data in testloader:\n",
        "        if device == \"cpu\":\n",
        "            images, labels = data\n",
        "        elif device == \"cuda:0\":\n",
        "            images, labels = data[0].to(device), data[1].to(device)\n",
        "        else:\n",
        "            print(\"DEVICE ERROR\")\n",
        "            break\n",
        "        outputs = net(images)\n",
        "        _, predicted = torch.max(outputs.data, 1)\n",
        "        total += labels.size(0)\n",
        "        correct += (predicted == labels).sum().item()\n",
        "print('Accuracy of the network on the 10000 test images: %d %%' % (100 * correct / total))"
      ],
      "execution_count": 71,
      "outputs": [
        {
          "output_type": "stream",
          "text": [
            "Accuracy of the network on the 10000 test images: 55 %\n"
          ],
          "name": "stdout"
        }
      ]
    },
    {
      "cell_type": "code",
      "metadata": {
        "colab": {
          "base_uri": "https://localhost:8080/"
        },
        "id": "mIHcHI-Gylk_",
        "outputId": "d5302a43-2eaf-4e57-b8c6-878daba72660"
      },
      "source": [
        "class_correct = list(0. for i in range(10))\n",
        "class_total = list(0. for i in range(10))\n",
        "with torch.no_grad():\n",
        "    for data in testloader:\n",
        "        if device == \"cpu\":\n",
        "            images, labels = data\n",
        "        elif device == \"cuda:0\":\n",
        "            images, labels = data[0].to(device), data[1].to(device)\n",
        "        else:\n",
        "            print(\"DEVICE ERROR\")\n",
        "            break\n",
        "        outputs = net(images)\n",
        "        _, predicted = torch.max(outputs, 1)\n",
        "        c = (predicted == labels).squeeze()\n",
        "        for i in range(4):\n",
        "            label = labels[i]\n",
        "            class_correct[label] += c[i].item()\n",
        "            class_total[label] += 1\n",
        "\n",
        "for i in range(10):\n",
        "    print('Accuracy of %5s : %2d %%' % (classes[i], 100 * class_correct[i] / class_total[i]))"
      ],
      "execution_count": 72,
      "outputs": [
        {
          "output_type": "stream",
          "text": [
            "Accuracy of plane : 50 %\n",
            "Accuracy of   car : 74 %\n",
            "Accuracy of  bird : 30 %\n",
            "Accuracy of   cat : 48 %\n",
            "Accuracy of  deer : 28 %\n",
            "Accuracy of   dog : 54 %\n",
            "Accuracy of  frog : 65 %\n",
            "Accuracy of horse : 57 %\n",
            "Accuracy of  ship : 76 %\n",
            "Accuracy of truck : 52 %\n"
          ],
          "name": "stdout"
        }
      ]
    },
    {
      "cell_type": "code",
      "metadata": {
        "id": "LT0LwDylyliS"
      },
      "source": [
        "torch.save(net.state_dict(), \"./cifar_net.pth\")"
      ],
      "execution_count": 73,
      "outputs": []
    },
    {
      "cell_type": "code",
      "metadata": {
        "id": "QjGSV61Rx6bR"
      },
      "source": [
        ""
      ],
      "execution_count": null,
      "outputs": []
    },
    {
      "cell_type": "markdown",
      "metadata": {
        "id": "OMw77YfUshPC"
      },
      "source": [
        "3.\tПереписать эту программу на PyTorch: \n",
        "\n",
        "![noname.png](data:image/png;base64,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)\n",
        "\n",
        "Не забудьте про реализацию функции forward! "
      ]
    },
    {
      "cell_type": "code",
      "metadata": {
        "id": "RAh1u_R4nGoL"
      },
      "source": [
        "transform=transforms.Compose([\n",
        "        transforms.ToTensor(),\n",
        "        transforms.Normalize((0.1307,), (0.3081,))\n",
        "        ])"
      ],
      "execution_count": 47,
      "outputs": []
    },
    {
      "cell_type": "code",
      "metadata": {
        "colab": {
          "base_uri": "https://localhost:8080/",
          "height": 386,
          "referenced_widgets": [
            "4e9abdb7b0934217834cb3ad7ade3201",
            "732e0844abb14fc7888b1e2e4746af0c",
            "0276592a834a4bdd8a74f3898cef3ef2",
            "2a18ba34f7a741578b60ca23772929f1",
            "b9a552df89d94e668f89c2583a719353",
            "2aa43d1b7ca947ec89f6fda96c0c662a",
            "5a477b7eee7f45b98535378e8880bd1c",
            "bf034b06b05746159fd038e96710b0e7",
            "bd666a0ff4524904abf084d6d5d6d97c",
            "b129a2ec672d4f41929507b1819ce9d4",
            "fdfd092d169a4379b7f26787de3b6ba6",
            "9960f11d98ab4d5997c44a7ac9e5de3c",
            "ad01dfd1c0f24e989d4a14f136dec698",
            "f085c4c1245a4968a8af41b904e479e5",
            "fe0c905b27664c0ba71cb4d70cde797f",
            "dd754efadf794ed48d199447bbb29431",
            "b5070f6a15684131848f1b56b765bfcd",
            "d83210a503ca402c8dd4a6f634323f63",
            "89cc102f26c14c90a76d9fe067b38317",
            "42f9fb0d30c74f33a0554b96d4d1b778",
            "b3c7c22040ec443f8f1220144fe00ed7",
            "5d9b0b012cc24e30a0deb54bc3385401",
            "edc2386ab8ab469d896be9545954f141",
            "92141c9794ea4a058d8d24c7896ba5ea",
            "9e540304b0f54fea95d30daabf48cfe7",
            "622ae60f45114cc9842f1014c07d3f94",
            "ca482841fd8d45148afa3a322c0df4dc",
            "c31564b2fa4b47ee8666428d66c36dda",
            "7ed200f702d04a52ab72f7ef7723eaad",
            "77655eee506d4e688a1d5adb619cbcfb",
            "8cd7ef042eea4a2e9f78ae5420a85662",
            "a9833b100c394baeae4de95799ebf7ca"
          ]
        },
        "id": "yMtatPS8zCTP",
        "outputId": "0f26f435-2738-46e9-8d46-5b20076ca2e1"
      },
      "source": [
        "trainset = torchvision.datasets.MNIST(root='./data', train=True,\n",
        "                                        download=True, transform=transform)\n",
        "trainloader = torch.utils.data.DataLoader(trainset, batch_size=120,\n",
        "                                          shuffle=True, num_workers=12)"
      ],
      "execution_count": 48,
      "outputs": [
        {
          "output_type": "stream",
          "text": [
            "Downloading http://yann.lecun.com/exdb/mnist/train-images-idx3-ubyte.gz to ./data/MNIST/raw/train-images-idx3-ubyte.gz\n"
          ],
          "name": "stdout"
        },
        {
          "output_type": "display_data",
          "data": {
            "application/vnd.jupyter.widget-view+json": {
              "model_id": "4e9abdb7b0934217834cb3ad7ade3201",
              "version_minor": 0,
              "version_major": 2
            },
            "text/plain": [
              "HBox(children=(FloatProgress(value=1.0, bar_style='info', max=1.0), HTML(value='')))"
            ]
          },
          "metadata": {
            "tags": []
          }
        },
        {
          "output_type": "stream",
          "text": [
            "Extracting ./data/MNIST/raw/train-images-idx3-ubyte.gz to ./data/MNIST/raw\n",
            "Downloading http://yann.lecun.com/exdb/mnist/train-labels-idx1-ubyte.gz to ./data/MNIST/raw/train-labels-idx1-ubyte.gz\n",
            "\n"
          ],
          "name": "stdout"
        },
        {
          "output_type": "display_data",
          "data": {
            "application/vnd.jupyter.widget-view+json": {
              "model_id": "bd666a0ff4524904abf084d6d5d6d97c",
              "version_minor": 0,
              "version_major": 2
            },
            "text/plain": [
              "HBox(children=(FloatProgress(value=1.0, bar_style='info', max=1.0), HTML(value='')))"
            ]
          },
          "metadata": {
            "tags": []
          }
        },
        {
          "output_type": "stream",
          "text": [
            "Extracting ./data/MNIST/raw/train-labels-idx1-ubyte.gz to ./data/MNIST/raw\n",
            "Downloading http://yann.lecun.com/exdb/mnist/t10k-images-idx3-ubyte.gz to ./data/MNIST/raw/t10k-images-idx3-ubyte.gz\n"
          ],
          "name": "stdout"
        },
        {
          "output_type": "display_data",
          "data": {
            "application/vnd.jupyter.widget-view+json": {
              "model_id": "b5070f6a15684131848f1b56b765bfcd",
              "version_minor": 0,
              "version_major": 2
            },
            "text/plain": [
              "HBox(children=(FloatProgress(value=1.0, bar_style='info', max=1.0), HTML(value='')))"
            ]
          },
          "metadata": {
            "tags": []
          }
        },
        {
          "output_type": "stream",
          "text": [
            "Extracting ./data/MNIST/raw/t10k-images-idx3-ubyte.gz to ./data/MNIST/raw\n",
            "Downloading http://yann.lecun.com/exdb/mnist/t10k-labels-idx1-ubyte.gz to ./data/MNIST/raw/t10k-labels-idx1-ubyte.gz\n"
          ],
          "name": "stdout"
        },
        {
          "output_type": "display_data",
          "data": {
            "application/vnd.jupyter.widget-view+json": {
              "model_id": "9e540304b0f54fea95d30daabf48cfe7",
              "version_minor": 0,
              "version_major": 2
            },
            "text/plain": [
              "HBox(children=(FloatProgress(value=1.0, bar_style='info', max=1.0), HTML(value='')))"
            ]
          },
          "metadata": {
            "tags": []
          }
        },
        {
          "output_type": "stream",
          "text": [
            "Extracting ./data/MNIST/raw/t10k-labels-idx1-ubyte.gz to ./data/MNIST/raw\n",
            "Processing...\n",
            "Done!\n"
          ],
          "name": "stdout"
        },
        {
          "output_type": "stream",
          "text": [
            "/usr/local/lib/python3.6/dist-packages/torchvision/datasets/mnist.py:480: UserWarning: The given NumPy array is not writeable, and PyTorch does not support non-writeable tensors. This means you can write to the underlying (supposedly non-writeable) NumPy array using the tensor. You may want to copy the array to protect its data or make it writeable before converting it to a tensor. This type of warning will be suppressed for the rest of this program. (Triggered internally at  /pytorch/torch/csrc/utils/tensor_numpy.cpp:141.)\n",
            "  return torch.from_numpy(parsed.astype(m[2], copy=False)).view(*s)\n"
          ],
          "name": "stderr"
        }
      ]
    },
    {
      "cell_type": "code",
      "metadata": {
        "colab": {
          "base_uri": "https://localhost:8080/"
        },
        "id": "XD_QJau4zCQQ",
        "outputId": "ca5ed57e-4eef-419b-8859-ad179274b19c"
      },
      "source": [
        "trainset.data.size()"
      ],
      "execution_count": 49,
      "outputs": [
        {
          "output_type": "execute_result",
          "data": {
            "text/plain": [
              "torch.Size([60000, 28, 28])"
            ]
          },
          "metadata": {
            "tags": []
          },
          "execution_count": 49
        }
      ]
    },
    {
      "cell_type": "code",
      "metadata": {
        "id": "xk5OvVt8zCNY"
      },
      "source": [
        "testset = torchvision.datasets.MNIST(root='./data', train=False,\n",
        "                                       download=True, transform=transform)\n",
        "testloader = torch.utils.data.DataLoader(testset, batch_size=120,\n",
        "                                         shuffle=True, num_workers=12)"
      ],
      "execution_count": 50,
      "outputs": []
    },
    {
      "cell_type": "code",
      "metadata": {
        "colab": {
          "base_uri": "https://localhost:8080/"
        },
        "id": "OwzG8EGNzAdF",
        "outputId": "005fbfe2-44a6-4ebd-c867-18379f79ad8f"
      },
      "source": [
        "dataiter = iter(trainloader)\n",
        "images, labels = dataiter.next()"
      ],
      "execution_count": 51,
      "outputs": [
        {
          "output_type": "stream",
          "text": [
            "\n",
            "\n",
            "\n",
            "\n",
            "\n",
            "\n"
          ],
          "name": "stdout"
        }
      ]
    },
    {
      "cell_type": "code",
      "metadata": {
        "colab": {
          "base_uri": "https://localhost:8080/",
          "height": 129
        },
        "id": "I2ubhGZhzAaJ",
        "outputId": "74f31b45-07d0-41cf-9c88-04b4a1e79fb3"
      },
      "source": [
        "imshow(torchvision.utils.make_grid(images[:8,:]))\n",
        "print(labels[:8])"
      ],
      "execution_count": 52,
      "outputs": [
        {
          "output_type": "stream",
          "text": [
            "Clipping input data to the valid range for imshow with RGB data ([0..1] for floats or [0..255] for integers).\n"
          ],
          "name": "stderr"
        },
        {
          "output_type": "display_data",
          "data": {
            "image/png": "[encoded data removed]",
            "text/plain": [
              "<Figure size 432x288 with 1 Axes>"
            ]
          },
          "metadata": {
            "tags": [],
            "needs_background": "light"
          }
        },
        {
          "output_type": "stream",
          "text": [
            "tensor([6, 1, 3, 4, 3, 6, 4, 9])\n"
          ],
          "name": "stdout"
        }
      ]
    },
    {
      "cell_type": "code",
      "metadata": {
        "id": "104CNVs7zAW-"
      },
      "source": [
        "class Net(nn.Module):\n",
        "    def __init__(self):\n",
        "        super(Net, self).__init__()\n",
        "        self.flatten = nn.Flatten(1, -1)\n",
        "        self.linear1 = nn.Linear(28*28, 128)\n",
        "        self.linear2 = nn.Linear(128, 10)\n",
        "        \n",
        "\n",
        "    def forward(self, x):\n",
        "        x = self.flatten(x)\n",
        "        x = self.linear1(x)\n",
        "        x = F.relu(x)\n",
        "        x = F.dropout(x, 0.2)\n",
        "        x = self.linear2(x)\n",
        "        x = F.softmax(x)\n",
        "        return x"
      ],
      "execution_count": 53,
      "outputs": []
    },
    {
      "cell_type": "code",
      "metadata": {
        "id": "sqvrw1xVzAUP"
      },
      "source": [
        "model = Net()\n",
        "if device == \"cuda:0\":\n",
        "    model.to(device)"
      ],
      "execution_count": 54,
      "outputs": []
    },
    {
      "cell_type": "code",
      "metadata": {
        "id": "F026XPXjzjce"
      },
      "source": [
        "criterion = nn.CrossEntropyLoss()\n",
        "optimizer = optim.Adam(model.parameters(), lr=0.0001)"
      ],
      "execution_count": 55,
      "outputs": []
    },
    {
      "cell_type": "code",
      "metadata": {
        "colab": {
          "base_uri": "https://localhost:8080/"
        },
        "id": "0gKUm6EMzjYy",
        "outputId": "3c7fa209-95bf-400f-9caf-8bb0a0a17305"
      },
      "source": [
        "for epoch in range(2):  # loop over the dataset multiple times\n",
        "\n",
        "    running_loss = 0.0\n",
        "    for i, data in enumerate(trainloader, 0):\n",
        "        # get the inputs; data is a list of [inputs, labels]\n",
        "        if device == \"cpu\":\n",
        "            inputs, labels = data\n",
        "        elif device == \"cuda:0\":\n",
        "            inputs, labels = data[0].to(device), data[1].to(device)\n",
        "        else:\n",
        "            print(\"DEVICE ERROR\")\n",
        "            break\n",
        "\n",
        "        # zero the parameter gradients\n",
        "        optimizer.zero_grad()\n",
        "\n",
        "        # forward + backward + optimize\n",
        "        outputs = model(inputs)\n",
        "        loss = criterion(outputs, labels)\n",
        "        loss.backward()\n",
        "        optimizer.step()\n",
        "\n",
        "        # print statistics\n",
        "        running_loss += loss.item()\n",
        "        if i % 500 == 499:    # print every 2000 mini-batches\n",
        "            print('[%d, %5d] loss: %.3f' %\n",
        "                  (epoch + 1, i + 1, running_loss / 499))\n",
        "            running_loss = 0.0\n",
        "print('Finished Training')"
      ],
      "execution_count": 56,
      "outputs": [
        {
          "output_type": "stream",
          "text": [
            "/usr/local/lib/python3.6/dist-packages/ipykernel_launcher.py:15: UserWarning: Implicit dimension choice for softmax has been deprecated. Change the call to include dim=X as an argument.\n",
            "  from ipykernel import kernelapp as app\n"
          ],
          "name": "stderr"
        },
        {
          "output_type": "stream",
          "text": [
            "[1,   500] loss: 1.821\n",
            "[2,   500] loss: 1.616\n",
            "Finished Training\n"
          ],
          "name": "stdout"
        }
      ]
    },
    {
      "cell_type": "code",
      "metadata": {
        "id": "gREtSdEvzjWW"
      },
      "source": [
        "for i, data in enumerate(testloader, 0):\n",
        "        # get the inputs; data is a list of [inputs, labels]\n",
        "        if device == \"cpu\":\n",
        "            inputs, labels = data\n",
        "        elif device == \"cuda:0\":\n",
        "            inputs, labels = data[0].to(device), data[1].to(device)\n",
        "        break"
      ],
      "execution_count": 57,
      "outputs": []
    },
    {
      "cell_type": "code",
      "metadata": {
        "colab": {
          "base_uri": "https://localhost:8080/"
        },
        "id": "gYTBVPNQzjTr",
        "outputId": "2b847baf-00a3-49b1-a2ab-c097248b3aa1"
      },
      "source": [
        "y_pred = model(inputs).cpu().detach().numpy()"
      ],
      "execution_count": 58,
      "outputs": [
        {
          "output_type": "stream",
          "text": [
            "/usr/local/lib/python3.6/dist-packages/ipykernel_launcher.py:15: UserWarning: Implicit dimension choice for softmax has been deprecated. Change the call to include dim=X as an argument.\n",
            "  from ipykernel import kernelapp as app\n"
          ],
          "name": "stderr"
        }
      ]
    },
    {
      "cell_type": "code",
      "metadata": {
        "colab": {
          "base_uri": "https://localhost:8080/",
          "height": 117
        },
        "id": "_QSSJh_FzjRK",
        "outputId": "dad04263-b45c-4554-924a-bf237d0948a3"
      },
      "source": [
        "imshow(torchvision.utils.make_grid(inputs.cpu()[:25,:], 25))\n",
        "print(\"y:     \",labels.cpu().numpy()[:25])\n",
        "print(\"y_pred:\", y_pred.argmax(1)[:25])"
      ],
      "execution_count": 59,
      "outputs": [
        {
          "output_type": "stream",
          "text": [
            "Clipping input data to the valid range for imshow with RGB data ([0..1] for floats or [0..255] for integers).\n"
          ],
          "name": "stderr"
        },
        {
          "output_type": "display_data",
          "data": {
            "image/png": "[encoded data removed]",
            "text/plain": [
              "<Figure size 432x288 with 1 Axes>"
            ]
          },
          "metadata": {
            "tags": [],
            "needs_background": "light"
          }
        },
        {
          "output_type": "stream",
          "text": [
            "y:      [6 5 2 8 1 2 1 0 6 1 2 9 1 0 9 5 3 8 3 6 7 7 0 8 7]\n",
            "y_pred: [4 5 2 9 1 7 8 0 6 1 2 9 1 0 9 5 3 8 3 6 7 7 0 8 7]\n"
          ],
          "name": "stdout"
        }
      ]
    },
    {
      "cell_type": "code",
      "metadata": {
        "id": "Y-_Hd-VJzjIe"
      },
      "source": [
        ""
      ],
      "execution_count": null,
      "outputs": []
    }
  ]
}