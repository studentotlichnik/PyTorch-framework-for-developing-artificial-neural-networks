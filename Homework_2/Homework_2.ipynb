{
  "nbformat": 4,
  "nbformat_minor": 0,
  "metadata": {
    "colab": {
      "name": "Homework_2.ipynb",
      "provenance": [],
      "collapsed_sections": []
    },
    "kernelspec": {
      "name": "python3",
      "display_name": "Python 3"
    }
  },
  "cells": [
    {
      "cell_type": "markdown",
      "metadata": {
        "id": "ink0YJaJMh7s"
      },
      "source": [
        "# Домашняя работа 2"
      ]
    },
    {
      "cell_type": "markdown",
      "metadata": {
        "id": "9eCiCLPSMjOa"
      },
      "source": [
        "Пока выполняю работу. О готовности сообщу в личке на сайте."
      ]
    },
    {
      "cell_type": "code",
      "metadata": {
        "id": "WOAcivqAMX_k"
      },
      "source": [
        ""
      ],
      "execution_count": null,
      "outputs": []
    }
  ]
}